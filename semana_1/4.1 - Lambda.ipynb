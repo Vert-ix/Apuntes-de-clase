{
 "cells": [
  {
   "cell_type": "markdown",
   "metadata": {},
   "source": [
    "# 4.1 - Funciones anónimas (Lambda)\n",
    "\n",
    "![lambda](images/lambda.png)"
   ]
  },
  {
   "cell_type": "markdown",
   "metadata": {},
   "source": [
    "**Recordatorio de la estructura de una función:**\n",
    "\n",
    "Partes de una función:\n",
    "- Nombre\n",
    "- Parámetros\n",
    "- Código (acción/operación)\n",
    "- return (ojo, las funciones sin return devuelven `None`)\n",
    "    \n",
    "```python\n",
    "def nombre_funcion(parámetro_1, parámetro_2='valor_por_defecto'):\n",
    "    return acción(parámetro_1, parámetro_2)\n",
    "```\n",
    "\n",
    "\n",
    "O más general:\n",
    "\n",
    "```python\n",
    "def func(*args,**kwargs):\n",
    "    return acción(*args,**kwargs)\n",
    "```"
   ]
  },
  {
   "cell_type": "markdown",
   "metadata": {},
   "source": [
    "**Definición de Lambda**\n",
    "\n",
    "En Python, una función Lambda se refiere a una pequeña función anónima. Las llamamos “funciones anónimas” porque técnicamente carecen de nombre.\n",
    "\n",
    "Al contrario que una función normal, no la definimos con la palabra clave estándar def que utilizamos en python. En su lugar, las funciones Lambda se definen como una línea que ejecuta una sola expresión. Este tipo de funciones pueden tomar cualquier número de argumentos, pero solo pueden tener una expresión.\n",
    "\n",
    "Una de las utilidades principales de las funciones Lambda es la optimización de memoria, no guardando la función una vez utilizada.\n",
    "\n",
    "**Sintaxis de la función Lambda**\n",
    "```python\n",
    "lambda parámetro_1, parámetro_2: action(parámetro_1, parámetro_2)\n",
    "```\n",
    "\n",
    "También puede tener valores por defecto:\n",
    "\n",
    "```python\n",
    "lambda parámetro_1, parámetro_2='valor_por_defecto': action(parámetro_1, parámetro_2)\n",
    "```\n",
    "\n",
    "O más general:\n",
    "\n",
    "```python\n",
    "lambda *args,**kwargs: acción(*args,**kwargs)\n",
    "```"
   ]
  },
  {
   "cell_type": "markdown",
   "metadata": {},
   "source": [
    "**Ejemplos:**\n",
    "\n",
    "Supongamos primero una función sencilla:"
   ]
  },
  {
   "cell_type": "code",
   "execution_count": 1,
   "metadata": {},
   "outputs": [],
   "source": [
    "def sumar (a,b):\n",
    "    return a,b"
   ]
  },
  {
   "cell_type": "code",
   "execution_count": 2,
   "metadata": {},
   "outputs": [
    {
     "data": {
      "text/plain": [
       "<function __main__.sumar(a, b)>"
      ]
     },
     "execution_count": 2,
     "metadata": {},
     "output_type": "execute_result"
    }
   ],
   "source": [
    "sumar"
   ]
  },
  {
   "cell_type": "code",
   "execution_count": 3,
   "metadata": {},
   "outputs": [
    {
     "data": {
      "text/plain": [
       "(3, 4)"
      ]
     },
     "execution_count": 3,
     "metadata": {},
     "output_type": "execute_result"
    }
   ],
   "source": [
    "sumar(3,4)"
   ]
  },
  {
   "cell_type": "code",
   "execution_count": 4,
   "metadata": {},
   "outputs": [
    {
     "data": {
      "text/plain": [
       "<function __main__.<lambda>(a, b)>"
      ]
     },
     "execution_count": 4,
     "metadata": {},
     "output_type": "execute_result"
    }
   ],
   "source": [
    "# con lambda\n",
    "\n",
    "lambda a,b : a+b"
   ]
  },
  {
   "cell_type": "code",
   "execution_count": 5,
   "metadata": {},
   "outputs": [
    {
     "data": {
      "text/plain": [
       "7"
      ]
     },
     "execution_count": 5,
     "metadata": {},
     "output_type": "execute_result"
    }
   ],
   "source": [
    "(lambda a,b : a+b)(3,4)"
   ]
  },
  {
   "cell_type": "code",
   "execution_count": 6,
   "metadata": {},
   "outputs": [],
   "source": [
    "sumar = lambda a,b : a+b"
   ]
  },
  {
   "cell_type": "code",
   "execution_count": 7,
   "metadata": {},
   "outputs": [
    {
     "data": {
      "text/plain": [
       "7"
      ]
     },
     "execution_count": 7,
     "metadata": {},
     "output_type": "execute_result"
    }
   ],
   "source": [
    "sumar(3,4)"
   ]
  },
  {
   "cell_type": "code",
   "execution_count": 8,
   "metadata": {},
   "outputs": [],
   "source": [
    "def sumar_10(a, b=10):\n",
    "    return a + b"
   ]
  },
  {
   "cell_type": "code",
   "execution_count": 9,
   "metadata": {},
   "outputs": [
    {
     "data": {
      "text/plain": [
       "12"
      ]
     },
     "execution_count": 9,
     "metadata": {},
     "output_type": "execute_result"
    }
   ],
   "source": [
    "sumar_10(2)"
   ]
  },
  {
   "cell_type": "code",
   "execution_count": 11,
   "metadata": {},
   "outputs": [
    {
     "data": {
      "text/plain": [
       "12"
      ]
     },
     "execution_count": 11,
     "metadata": {},
     "output_type": "execute_result"
    }
   ],
   "source": [
    "(lambda a, b=10: a+b)(2)"
   ]
  },
  {
   "cell_type": "code",
   "execution_count": 12,
   "metadata": {},
   "outputs": [
    {
     "data": {
      "text/plain": [
       "17"
      ]
     },
     "execution_count": 12,
     "metadata": {},
     "output_type": "execute_result"
    }
   ],
   "source": [
    "(lambda a, b=10: a+b)(2, 15)"
   ]
  },
  {
   "cell_type": "code",
   "execution_count": 13,
   "metadata": {},
   "outputs": [
    {
     "data": {
      "text/plain": [
       "17"
      ]
     },
     "execution_count": 13,
     "metadata": {},
     "output_type": "execute_result"
    }
   ],
   "source": [
    "sumar_10(2,15)"
   ]
  },
  {
   "cell_type": "code",
   "execution_count": 16,
   "metadata": {},
   "outputs": [
    {
     "name": "stdout",
     "output_type": "stream",
     "text": [
      "13\n",
      "30\n"
     ]
    }
   ],
   "source": [
    "print((lambda a,b : a+b)(3,10))\n",
    "print((lambda a,b : a*b)(3,10))"
   ]
  },
  {
   "cell_type": "code",
   "execution_count": 17,
   "metadata": {},
   "outputs": [
    {
     "name": "stdout",
     "output_type": "stream",
     "text": [
      "Help on function <lambda> in module __main__:\n",
      "\n",
      "<lambda> lambda a, b\n",
      "\n"
     ]
    }
   ],
   "source": [
    "help(lambda a,b : a+b)"
   ]
  },
  {
   "cell_type": "code",
   "execution_count": 18,
   "metadata": {},
   "outputs": [],
   "source": [
    "multiplicar = lambda a,b: a*b"
   ]
  },
  {
   "cell_type": "code",
   "execution_count": 19,
   "metadata": {},
   "outputs": [
    {
     "data": {
      "text/plain": [
       "30"
      ]
     },
     "execution_count": 19,
     "metadata": {},
     "output_type": "execute_result"
    }
   ],
   "source": [
    "multiplicar(3,10)"
   ]
  },
  {
   "cell_type": "code",
   "execution_count": 20,
   "metadata": {},
   "outputs": [],
   "source": [
    "multiplicar_fijo = lambda a=3,b=10: a*b"
   ]
  },
  {
   "cell_type": "code",
   "execution_count": 23,
   "metadata": {},
   "outputs": [
    {
     "data": {
      "text/plain": [
       "1836"
      ]
     },
     "execution_count": 23,
     "metadata": {},
     "output_type": "execute_result"
    }
   ],
   "source": [
    "multiplicar_fijo(54,34)"
   ]
  },
  {
   "cell_type": "markdown",
   "metadata": {},
   "source": [
    "## Un ejemplo un poco más complicado 🏃‍♂️🏃‍♀️👺"
   ]
  },
  {
   "cell_type": "code",
   "execution_count": 36,
   "metadata": {},
   "outputs": [],
   "source": [
    "def filtrar(*lst):\n",
    "    \n",
    "    res = []\n",
    "    \n",
    "    for e in lst:\n",
    "        \n",
    "        if 'o' in e:\n",
    "            res.append(3*e)\n",
    "            \n",
    "        elif 'v' in e:\n",
    "            res.append(e)\n",
    "            \n",
    "        elif 'a' in e:\n",
    "            res.append(5*e)\n",
    "            \n",
    "        else:\n",
    "            res.append(None)\n",
    "            \n",
    "    return res"
   ]
  },
  {
   "cell_type": "code",
   "execution_count": 37,
   "metadata": {},
   "outputs": [
    {
     "data": {
      "text/plain": [
       "[None, 'holaholahola', 'venga']"
      ]
     },
     "execution_count": 37,
     "metadata": {},
     "output_type": "execute_result"
    }
   ],
   "source": [
    "filtrar(['hola', 'buenas', 'como', 'estamos', 'vemos', 'el', 'lio'], 'hola', 'venga')"
   ]
  },
  {
   "cell_type": "code",
   "execution_count": 38,
   "metadata": {},
   "outputs": [
    {
     "data": {
      "text/plain": [
       "<function __main__.<lambda>(*lst)>"
      ]
     },
     "execution_count": 38,
     "metadata": {},
     "output_type": "execute_result"
    }
   ],
   "source": [
    "lambda *lst: [3*e if 'o' in e else(e if 'v' in e else(5*e if 'a' in e else None)) for e in lst]"
   ]
  },
  {
   "cell_type": "code",
   "execution_count": 40,
   "metadata": {},
   "outputs": [
    {
     "data": {
      "text/plain": [
       "[None, 'holaholahola', 'venga']"
      ]
     },
     "execution_count": 40,
     "metadata": {},
     "output_type": "execute_result"
    }
   ],
   "source": [
    "(lambda *lst: [3*e if 'o' in e else\\\n",
    "               (e if 'v' in e else\\\n",
    "                (5*e if 'a' in e else None))\\\n",
    "               for e in lst])(['hola', 'buenas', 'como', 'estamos', 'vemos', 'el', 'lio'], 'hola', 'venga')"
   ]
  },
  {
   "cell_type": "markdown",
   "metadata": {},
   "source": [
    "### Resumen\n",
    "\n",
    "+ Las funciones Lambda hacen lo mismo que las funciones `def` (valores por defecto, \\*args, \\*\\*kwargs)\n",
    "+ Tienen una sintaxis diferente\n",
    "+ Están en una línea (dificultad en expresar el return)\n"
   ]
  },
  {
   "cell_type": "markdown",
   "metadata": {},
   "source": [
    "### Más\n",
    "\n",
    "https://realpython.com/python-lambda/"
   ]
  }
 ],
 "metadata": {
  "kernelspec": {
   "display_name": "IronHack",
   "language": "python",
   "name": "ironhack"
  },
  "language_info": {
   "codemirror_mode": {
    "name": "ipython",
    "version": 3
   },
   "file_extension": ".py",
   "mimetype": "text/x-python",
   "name": "python",
   "nbconvert_exporter": "python",
   "pygments_lexer": "ipython3",
   "version": "3.9.12"
  }
 },
 "nbformat": 4,
 "nbformat_minor": 4
}
